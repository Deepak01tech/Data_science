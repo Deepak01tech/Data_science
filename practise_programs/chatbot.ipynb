{
 "cells": [
  {
   "cell_type": "code",
   "execution_count": 1,
   "id": "5e95d1e8",
   "metadata": {},
   "outputs": [
    {
     "ename": "ModuleNotFoundError",
     "evalue": "No module named 'chatbot'",
     "output_type": "error",
     "traceback": [
      "\u001b[1;31m---------------------------------------------------------------------------\u001b[0m",
      "\u001b[1;31mModuleNotFoundError\u001b[0m                       Traceback (most recent call last)",
      "Cell \u001b[1;32mIn[1], line 1\u001b[0m\n\u001b[1;32m----> 1\u001b[0m \u001b[38;5;28;01mfrom\u001b[39;00m \u001b[38;5;21;01mchatbot\u001b[39;00m \u001b[38;5;28;01mimport\u001b[39;00m Chat, register_call\n\u001b[0;32m      2\u001b[0m \u001b[38;5;28;01mimport\u001b[39;00m \u001b[38;5;21;01mwikipedia\u001b[39;00m\n",
      "\u001b[1;31mModuleNotFoundError\u001b[0m: No module named 'chatbot'"
     ]
    }
   ],
   "source": []
  },
  {
   "cell_type": "code",
   "execution_count": 2,
   "id": "25b95485",
   "metadata": {},
   "outputs": [
    {
     "name": "stdout",
     "output_type": "stream",
     "text": [
      "Collecting chatbot\n",
      "  Downloading chatbot-1.5.2b.tar.gz (3.9 kB)\n",
      "  Preparing metadata (setup.py): started\n",
      "  Preparing metadata (setup.py): finished with status 'done'\n",
      "Building wheels for collected packages: chatbot\n",
      "  Building wheel for chatbot (setup.py): started\n",
      "  Building wheel for chatbot (setup.py): finished with status 'done'\n",
      "  Created wheel for chatbot: filename=chatbot-1.5.2b0-py3-none-any.whl size=4286 sha256=1bca755e978cb58a0e0f854c9c6aabe5779add79f1666310cbe661caeb84b84a\n",
      "  Stored in directory: c:\\users\\dp559\\appdata\\local\\pip\\cache\\wheels\\37\\25\\f5\\cb3cb0e294b82a81c822bebb53a92b391113f0424e92d0df12\n",
      "Successfully built chatbot\n",
      "Installing collected packages: chatbot\n",
      "Successfully installed chatbot-1.5.2b0\n"
     ]
    }
   ],
   "source": [
    "!pip install chatbot"
   ]
  },
  {
   "cell_type": "code",
   "execution_count": 3,
   "id": "52806f27",
   "metadata": {},
   "outputs": [
    {
     "ename": "SyntaxError",
     "evalue": "Missing parentheses in call to 'print'. Did you mean print(...)? (chatbot.py, line 166)",
     "output_type": "error",
     "traceback": [
      "Traceback \u001b[1;36m(most recent call last)\u001b[0m:\n",
      "\u001b[0m  File \u001b[0;32m~\\anaconda3\\Lib\\site-packages\\IPython\\core\\interactiveshell.py:3526\u001b[0m in \u001b[0;35mrun_code\u001b[0m\n    exec(code_obj, self.user_global_ns, self.user_ns)\u001b[0m\n",
      "\u001b[1;36m  Cell \u001b[1;32mIn[3], line 1\u001b[1;36m\n\u001b[1;33m    from chatbot import Chat, register_call\u001b[1;36m\n",
      "\u001b[1;36m  File \u001b[1;32m~\\anaconda3\\Lib\\site-packages\\chatbot.py:166\u001b[1;36m\u001b[0m\n\u001b[1;33m    print 'Couldn\\'t log in: Quitting.'\u001b[0m\n\u001b[1;37m    ^\u001b[0m\n\u001b[1;31mSyntaxError\u001b[0m\u001b[1;31m:\u001b[0m Missing parentheses in call to 'print'. Did you mean print(...)?\n"
     ]
    }
   ],
   "source": [
    "from chatbot import Chat, register_call\n",
    "import wikipedia"
   ]
  },
  {
   "cell_type": "code",
   "execution_count": null,
   "id": "1768871d",
   "metadata": {},
   "outputs": [],
   "source": []
  }
 ],
 "metadata": {
  "kernelspec": {
   "display_name": "Python 3 (ipykernel)",
   "language": "python",
   "name": "python3"
  },
  "language_info": {
   "codemirror_mode": {
    "name": "ipython",
    "version": 3
   },
   "file_extension": ".py",
   "mimetype": "text/x-python",
   "name": "python",
   "nbconvert_exporter": "python",
   "pygments_lexer": "ipython3",
   "version": "3.11.5"
  }
 },
 "nbformat": 4,
 "nbformat_minor": 5
}
