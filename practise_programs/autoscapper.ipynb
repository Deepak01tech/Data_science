{
 "cells": [
  {
   "cell_type": "code",
   "execution_count": 1,
   "id": "c3c5f0a4",
   "metadata": {},
   "outputs": [
    {
     "ename": "ModuleNotFoundError",
     "evalue": "No module named 'autoscraper'",
     "output_type": "error",
     "traceback": [
      "\u001b[1;31m---------------------------------------------------------------------------\u001b[0m",
      "\u001b[1;31mModuleNotFoundError\u001b[0m                       Traceback (most recent call last)",
      "Cell \u001b[1;32mIn[1], line 1\u001b[0m\n\u001b[1;32m----> 1\u001b[0m \u001b[38;5;28;01mfrom\u001b[39;00m \u001b[38;5;21;01mautoscraper\u001b[39;00m \u001b[38;5;28;01mimport\u001b[39;00m AutoScraper\n",
      "\u001b[1;31mModuleNotFoundError\u001b[0m: No module named 'autoscraper'"
     ]
    }
   ],
   "source": [
    "from autoscraper import AutoScraper"
   ]
  },
  {
   "cell_type": "code",
   "execution_count": 2,
   "id": "51cbf012",
   "metadata": {},
   "outputs": [
    {
     "name": "stdout",
     "output_type": "stream",
     "text": [
      "Collecting AutoScraperNote: you may need to restart the kernel to use updated packages.\n",
      "\n",
      "  Downloading autoscraper-1.1.14-py3-none-any.whl (10 kB)\n",
      "Requirement already satisfied: requests in c:\\users\\dp559\\anaconda3\\lib\\site-packages (from AutoScraper) (2.31.0)\n",
      "Collecting bs4 (from AutoScraper)\n",
      "  Downloading bs4-0.0.1.tar.gz (1.1 kB)\n",
      "  Preparing metadata (setup.py): started\n",
      "  Preparing metadata (setup.py): finished with status 'done'\n",
      "Requirement already satisfied: lxml in c:\\users\\dp559\\anaconda3\\lib\\site-packages (from AutoScraper) (4.9.3)\n",
      "Requirement already satisfied: beautifulsoup4 in c:\\users\\dp559\\anaconda3\\lib\\site-packages (from bs4->AutoScraper) (4.12.2)\n",
      "Requirement already satisfied: charset-normalizer<4,>=2 in c:\\users\\dp559\\anaconda3\\lib\\site-packages (from requests->AutoScraper) (2.0.4)\n",
      "Requirement already satisfied: idna<4,>=2.5 in c:\\users\\dp559\\anaconda3\\lib\\site-packages (from requests->AutoScraper) (3.4)\n",
      "Requirement already satisfied: urllib3<3,>=1.21.1 in c:\\users\\dp559\\anaconda3\\lib\\site-packages (from requests->AutoScraper) (1.26.16)\n",
      "Requirement already satisfied: certifi>=2017.4.17 in c:\\users\\dp559\\anaconda3\\lib\\site-packages (from requests->AutoScraper) (2023.7.22)\n",
      "Requirement already satisfied: soupsieve>1.2 in c:\\users\\dp559\\anaconda3\\lib\\site-packages (from beautifulsoup4->bs4->AutoScraper) (2.4)\n",
      "Building wheels for collected packages: bs4\n",
      "  Building wheel for bs4 (setup.py): started\n",
      "  Building wheel for bs4 (setup.py): finished with status 'done'\n",
      "  Created wheel for bs4: filename=bs4-0.0.1-py3-none-any.whl size=1264 sha256=1dd9101d6e912889d7c0a077ba400571ad6a08c9e286af764581714790d78364\n",
      "  Stored in directory: c:\\users\\dp559\\appdata\\local\\pip\\cache\\wheels\\d4\\c8\\5b\\b5be9c20e5e4503d04a6eac8a3cd5c2393505c29f02bea0960\n",
      "Successfully built bs4\n",
      "Installing collected packages: bs4, AutoScraper\n",
      "Successfully installed AutoScraper-1.1.14 bs4-0.0.1\n"
     ]
    }
   ],
   "source": [
    "pip install AutoScraper"
   ]
  },
  {
   "cell_type": "code",
   "execution_count": 3,
   "id": "b6611568",
   "metadata": {},
   "outputs": [],
   "source": [
    "from autoscraper import AutoScraper"
   ]
  },
  {
   "cell_type": "code",
   "execution_count": null,
   "id": "3ee0e26c",
   "metadata": {},
   "outputs": [],
   "source": [
    "amazon_url=\"https://www.amazon.in/s?k=headphones\"\n",
    "\n",
    "wanted_list=[\"\"]"
   ]
  }
 ],
 "metadata": {
  "kernelspec": {
   "display_name": "Python 3 (ipykernel)",
   "language": "python",
   "name": "python3"
  },
  "language_info": {
   "codemirror_mode": {
    "name": "ipython",
    "version": 3
   },
   "file_extension": ".py",
   "mimetype": "text/x-python",
   "name": "python",
   "nbconvert_exporter": "python",
   "pygments_lexer": "ipython3",
   "version": "3.11.5"
  }
 },
 "nbformat": 4,
 "nbformat_minor": 5
}
